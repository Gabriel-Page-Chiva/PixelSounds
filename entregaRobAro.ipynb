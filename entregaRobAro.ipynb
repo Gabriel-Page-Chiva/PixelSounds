{
 "cells": [
  {
   "cell_type": "markdown",
   "id": "d007624a-f620-41e4-bf5b-e7827ff94352",
   "metadata": {},
   "source": [
    "# Proyecto PixelSounds"
   ]
  },
  {
   "cell_type": "markdown",
   "id": "5e45d701-f5d7-43d3-a635-6d9bb04a32ae",
   "metadata": {},
   "source": [
    "### ¿Qué es PixelSounds?"
   ]
  },
  {
   "cell_type": "markdown",
   "id": "fbbda772-1044-42de-b8f1-0a8de9b1435a",
   "metadata": {},
   "source": [
    "PixelSounds es el resultado al que hemos llegado entre todos los participantes de este grupo al querer responder a nuestra manera la misma cuestión: si es posible una compatibilidad entre las imágenes y el audio. Los métodos y resultados que hemos desarrollado no tienen por qué ser ni los únicos ni los correctos, son una de las posibles interpretaciones que se pueden escoger. El proceso ha sido un conjunto de probar cosas nuevas, añadir algo a ver qué podría pasar y ver la evolución de una idea mientras seguíamos nuestra curiosidad por desarrollar conocimientos."
   ]
  },
  {
   "cell_type": "markdown",
   "id": "cd47f2df-e0a2-4f9e-9dd7-29cd402ade2b",
   "metadata": {},
   "source": [
    "## 1. De la imagen al audio"
   ]
  },
  {
   "cell_type": "markdown",
   "id": "31d42a15-098f-4281-a9af-de1233572f82",
   "metadata": {},
   "source": [
    "Si de alguna forma quisiéramos \"escuchar\" una imagen hay unos cuantos acercamientos posibles. Uno bastante inmediato es considerar la propia imagen como el espectrograma de un audio y entonces realizar la ISTFT para obtener el sonido correspondiente. Es algo que se puede ver en YouTube en algún que otro vídeo y no está mal, pero no parece tener mucha más gracia y el objetivo es intentar cosas nuevas y originales.\n",
    "\n",
    "Planteando este proyecto la primera idea que surgió fue, que ya que hay tantas incógnitas y caminos posibles para elegir, una forma de avanzar sería extraer la mayor cantidad de características de una imagen para tener algo desde donde partir.\n",
    "\n"
   ]
  }
 ],
 "metadata": {
  "kernelspec": {
   "display_name": "Python 3 (ipykernel)",
   "language": "python",
   "name": "python3"
  },
  "language_info": {
   "codemirror_mode": {
    "name": "ipython",
    "version": 3
   },
   "file_extension": ".py",
   "mimetype": "text/x-python",
   "name": "python",
   "nbconvert_exporter": "python",
   "pygments_lexer": "ipython3",
   "version": "3.9.17"
  }
 },
 "nbformat": 4,
 "nbformat_minor": 5
}
