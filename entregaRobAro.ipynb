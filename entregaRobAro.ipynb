{
 "cells": [
  {
   "cell_type": "markdown",
   "id": "d007624a-f620-41e4-bf5b-e7827ff94352",
   "metadata": {},
   "source": [
    "# Proyecto PixelSounds"
   ]
  },
  {
   "cell_type": "markdown",
   "id": "fbbda772-1044-42de-b8f1-0a8de9b1435a",
   "metadata": {},
   "source": [
    "PixelSounds es el resultado al que hemos llegado entre todos los participantes de este grupo al querer responder a nuestra manera la misma cuestión: si es posible  "
   ]
  },
  {
   "cell_type": "markdown",
   "id": "1ed8380b-565e-4b40-bb48-82c45cabdad5",
   "metadata": {},
   "source": [
    "Algo importante sobre este proyecto creo que también es que no hay un resultado definitivo de nada, todo ha sido probar cosas nuevas, añadir a ver que pasa si hacemos algo nuevo, ver la evolución de una idea y cómo la curiosidad puede alimentar ideas para desarrollar conocimientos"
   ]
  },
  {
   "cell_type": "code",
   "execution_count": null,
   "id": "9d583d8f-3dd1-4b96-8282-b7df38398780",
   "metadata": {},
   "outputs": [],
   "source": []
  }
 ],
 "metadata": {
  "kernelspec": {
   "display_name": "Python 3 (ipykernel)",
   "language": "python",
   "name": "python3"
  },
  "language_info": {
   "codemirror_mode": {
    "name": "ipython",
    "version": 3
   },
   "file_extension": ".py",
   "mimetype": "text/x-python",
   "name": "python",
   "nbconvert_exporter": "python",
   "pygments_lexer": "ipython3",
   "version": "3.9.17"
  }
 },
 "nbformat": 4,
 "nbformat_minor": 5
}
