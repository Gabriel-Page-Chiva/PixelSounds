{
 "cells": [
  {
   "cell_type": "markdown",
   "id": "d007624a-f620-41e4-bf5b-e7827ff94352",
   "metadata": {},
   "source": [
    "# Proyecto PixelSounds"
   ]
  },
  {
   "cell_type": "markdown",
   "id": "5e45d701-f5d7-43d3-a635-6d9bb04a32ae",
   "metadata": {},
   "source": [
    "### ¿Qué es PixelSounds?"
   ]
  },
  {
   "cell_type": "markdown",
   "id": "fbbda772-1044-42de-b8f1-0a8de9b1435a",
   "metadata": {},
   "source": [
    "PixelSounds es el resultado al que hemos llegado entre todos los participantes de este grupo al querer responder a nuestra manera la misma cuestión: si es posible una compatibilidad entre las imágenes y el audio. Los métodos y resultados que hemos desarrollado no tienen por qué ser ni los únicos ni los correctos, son una de las posibles interpretaciones que se pueden escoger. El proceso ha sido un conjunto de probar cosas nuevas, añadir algo a ver qué podría pasar y ver la evolución de una idea mientras seguíamos nuestra curiosidad por desarrollar conocimientos."
   ]
  },
  {
   "cell_type": "markdown",
   "id": "cd47f2df-e0a2-4f9e-9dd7-29cd402ade2b",
   "metadata": {},
   "source": [
    "## 1. De la imagen al audio"
   ]
  },
  {
   "cell_type": "markdown",
   "id": "31d42a15-098f-4281-a9af-de1233572f82",
   "metadata": {},
   "source": []
  }
 ],
 "metadata": {
  "kernelspec": {
   "display_name": "Python 3 (ipykernel)",
   "language": "python",
   "name": "python3"
  },
  "language_info": {
   "codemirror_mode": {
    "name": "ipython",
    "version": 3
   },
   "file_extension": ".py",
   "mimetype": "text/x-python",
   "name": "python",
   "nbconvert_exporter": "python",
   "pygments_lexer": "ipython3",
   "version": "3.9.17"
  }
 },
 "nbformat": 4,
 "nbformat_minor": 5
}
